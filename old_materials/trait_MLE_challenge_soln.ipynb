{
 "cells": [
  {
   "cell_type": "markdown",
   "metadata": {
    "toc": "true"
   },
   "source": [
    "# Table of Contents\n",
    " <p><div class=\"lev1 toc-item\"><a href=\"#Mosquito-Thermal-Trait-Data\" data-toc-modified-id=\"Mosquito-Thermal-Trait-Data-1\"><span class=\"toc-item-num\">1&nbsp;&nbsp;</span>Mosquito Thermal Trait Data</a></div><div class=\"lev2 toc-item\"><a href=\"#Task-1:-Fitting-a-line,-revisited\" data-toc-modified-id=\"Task-1:-Fitting-a-line,-revisited-11\"><span class=\"toc-item-num\">1.1&nbsp;&nbsp;</span>Task 1: Fitting a line, revisited</a></div><div class=\"lev3 toc-item\"><a href=\"#Solution\" data-toc-modified-id=\"Solution-111\"><span class=\"toc-item-num\">1.1.1&nbsp;&nbsp;</span>Solution</a></div><div class=\"lev2 toc-item\"><a href=\"#Task-2:-Fitting-a-non-linear-trait-model\" data-toc-modified-id=\"Task-2:-Fitting-a-non-linear-trait-model-12\"><span class=\"toc-item-num\">1.2&nbsp;&nbsp;</span>Task 2: Fitting a non-linear trait model</a></div><div class=\"lev3 toc-item\"><a href=\"#Solution\" data-toc-modified-id=\"Solution-121\"><span class=\"toc-item-num\">1.2.1&nbsp;&nbsp;</span>Solution</a></div><div class=\"lev2 toc-item\"><a href=\"#Task-2b:-Fitting-a-second-non-linear-function-(optional)\" data-toc-modified-id=\"Task-2b:-Fitting-a-second-non-linear-function-(optional)-13\"><span class=\"toc-item-num\">1.3&nbsp;&nbsp;</span>Task 2b: Fitting a second non-linear function (optional)</a></div><div class=\"lev2 toc-item\"><a href=\"#Task-3:-Compare-models\" data-toc-modified-id=\"Task-3:-Compare-models-14\"><span class=\"toc-item-num\">1.4&nbsp;&nbsp;</span>Task 3: Compare models</a></div><div class=\"lev2 toc-item\"><a href=\"#Extra-challenge\" data-toc-modified-id=\"Extra-challenge-15\"><span class=\"toc-item-num\">1.5&nbsp;&nbsp;</span>Extra challenge</a></div>"
   ]
  },
  {
   "cell_type": "code",
   "execution_count": null,
   "metadata": {
    "Rmd_chunk_options": "setup, include=FALSE",
    "autoscroll": false,
    "collapsed": true
   },
   "outputs": [],
   "source": [
    "set.seed(1234)"
   ]
  },
  {
   "cell_type": "markdown",
   "metadata": {},
   "source": [
    "\n",
    "## Mosquito Thermal Trait Data\n",
    "\n",
    "The data for this question consist of thermal traits for _Aedes agypti_ mosquitos found in the data file ${\\tt AeaegyptiTraitData.csv}$. There are four possible traits (as well as some data that are recorded as the inverse trait, which we ignore for now):\n",
    "\n",
    "- pEA: proportion surviving from egg to adulthood\n",
    "- MDR: mosquito development rate\n",
    "- PDR: parasite development rate (= 1/EIP the extrinsic incubation period)\n",
    "- $\\mu$ (mu): death rate (= 1/longevity)\n",
    "\n",
    "You will choose one of these four traits and fit a curve to the data by maximum likelihood. (You can also fit a curve to the data of your choosing.) You will base your code on that provided in the lecture/practical portion of the class. We provide a specific set of tasks to accomplish starting with easy tasks through to more challenging aspects. We'll compare results and models during the group discussion.\n",
    "\n",
    "First we'll read in the data and look at the summary.\n",
    "\n"
   ]
  },
  {
   "cell_type": "code",
   "execution_count": 2,
   "metadata": {
    "Rmd_chunk_options": "sjdat",
    "autoscroll": false
   },
   "outputs": [
    {
     "data": {
      "text/html": [
       "<table>\n",
       "<thead><tr><th scope=col>trait.name</th><th scope=col>T</th><th scope=col>trait</th><th scope=col>ref</th><th scope=col>trait2</th><th scope=col>trait2.name</th></tr></thead>\n",
       "<tbody>\n",
       "\t<tr><td>pEA                  </td><td>22                   </td><td>0.90812              </td><td>Westbrook_Thesis_2010</td><td>NA                   </td><td>NA                   </td></tr>\n",
       "\t<tr><td>pEA                  </td><td>27                   </td><td>0.93590              </td><td>Westbrook_Thesis_2010</td><td>NA                   </td><td>NA                   </td></tr>\n",
       "\t<tr><td>pEA                  </td><td>32                   </td><td>0.81944              </td><td>Westbrook_Thesis_2010</td><td>NA                   </td><td>NA                   </td></tr>\n",
       "\t<tr><td>MDR                  </td><td>22                   </td><td>0.09174              </td><td>Westbrook_Thesis_2010</td><td>NA                   </td><td>NA                   </td></tr>\n",
       "\t<tr><td>MDR                  </td><td>27                   </td><td>0.13587              </td><td>Westbrook_Thesis_2010</td><td>NA                   </td><td>NA                   </td></tr>\n",
       "\t<tr><td>MDR                  </td><td>32                   </td><td>0.15823              </td><td>Westbrook_Thesis_2010</td><td>NA                   </td><td>NA                   </td></tr>\n",
       "</tbody>\n",
       "</table>\n"
      ],
      "text/latex": [
       "\\begin{tabular}{r|llllll}\n",
       " trait.name & T & trait & ref & trait2 & trait2.name\\\\\n",
       "\\hline\n",
       "\t pEA                       & 22                        & 0.90812                   & Westbrook\\_Thesis\\_2010 & NA                        & NA                       \\\\\n",
       "\t pEA                       & 27                        & 0.93590                   & Westbrook\\_Thesis\\_2010 & NA                        & NA                       \\\\\n",
       "\t pEA                       & 32                        & 0.81944                   & Westbrook\\_Thesis\\_2010 & NA                        & NA                       \\\\\n",
       "\t MDR                       & 22                        & 0.09174                   & Westbrook\\_Thesis\\_2010 & NA                        & NA                       \\\\\n",
       "\t MDR                       & 27                        & 0.13587                   & Westbrook\\_Thesis\\_2010 & NA                        & NA                       \\\\\n",
       "\t MDR                       & 32                        & 0.15823                   & Westbrook\\_Thesis\\_2010 & NA                        & NA                       \\\\\n",
       "\\end{tabular}\n"
      ],
      "text/markdown": [
       "\n",
       "trait.name | T | trait | ref | trait2 | trait2.name | \n",
       "|---|---|---|---|---|---|\n",
       "| pEA                   | 22                    | 0.90812               | Westbrook_Thesis_2010 | NA                    | NA                    | \n",
       "| pEA                   | 27                    | 0.93590               | Westbrook_Thesis_2010 | NA                    | NA                    | \n",
       "| pEA                   | 32                    | 0.81944               | Westbrook_Thesis_2010 | NA                    | NA                    | \n",
       "| MDR                   | 22                    | 0.09174               | Westbrook_Thesis_2010 | NA                    | NA                    | \n",
       "| MDR                   | 27                    | 0.13587               | Westbrook_Thesis_2010 | NA                    | NA                    | \n",
       "| MDR                   | 32                    | 0.15823               | Westbrook_Thesis_2010 | NA                    | NA                    | \n",
       "\n",
       "\n"
      ],
      "text/plain": [
       "  trait.name T  trait   ref                   trait2 trait2.name\n",
       "1 pEA        22 0.90812 Westbrook_Thesis_2010 NA     NA         \n",
       "2 pEA        27 0.93590 Westbrook_Thesis_2010 NA     NA         \n",
       "3 pEA        32 0.81944 Westbrook_Thesis_2010 NA     NA         \n",
       "4 MDR        22 0.09174 Westbrook_Thesis_2010 NA     NA         \n",
       "5 MDR        27 0.13587 Westbrook_Thesis_2010 NA     NA         \n",
       "6 MDR        32 0.15823 Westbrook_Thesis_2010 NA     NA         "
      ]
     },
     "metadata": {},
     "output_type": "display_data"
    }
   ],
   "source": [
    "### load in the data\n",
    "dat<-read.csv(file=\"../data/AeaegyptiTraitData.csv\")\n",
    "head(dat)"
   ]
  },
  {
   "cell_type": "markdown",
   "metadata": {},
   "source": [
    "\n",
    "Next let's plot the response output, ${\\tt trait}$ across temperature, ${\\tt T}$:\n",
    "\n"
   ]
  },
  {
   "cell_type": "code",
   "execution_count": 3,
   "metadata": {
    "Rmd_chunk_options": "sj1, fig.width=6, fig.height=6",
    "autoscroll": false
   },
   "outputs": [
    {
     "data": {
      "image/png": "[encoded data removed]",
      "text/plain": [
       "plot without title"
      ]
     },
     "metadata": {},
     "output_type": "display_data"
    }
   ],
   "source": [
    "traits<-c(\"pEA\", \"MDR\", \"PDR\", \"mu\")\n",
    "par(mfrow=c(2,2), bty=\"o\", mai=c(0.8,0.7,0.1,0.1))\n",
    "for(i in 1:4){\n",
    "  d.temp <- subset(dat, trait.name==traits[i])\n",
    "  plot(trait ~ T, data=d.temp, xlab=\"Temperature (C)\", ylab=traits[i], xlim=c(5, 45))\n",
    "}\n"
   ]
  },
  {
   "cell_type": "markdown",
   "metadata": {},
   "source": [
    "\n",
    "\n",
    "\n",
    "### Task 1: Fitting a line, revisited\n",
    "\n",
    "1. Using the _nll.slr_ function and the code from the lecture, find the MLEs of the slope and intercept (i.e., find the best fitting line for your chosen trait).\n",
    "2. Plot your data with the fitted line.\n",
    "3. Plot the likelihood surface for $b_0$ and $b_1$ and indicate the MLEs your likelihood surface.\n",
    "4. Obtain confidence intervals for your estimates.\n",
    "\n",
    "#### Solution\n",
    "\n",
    "First I will copy over the _nll.slr_ function from the lecture:\n",
    "\n"
   ]
  },
  {
   "cell_type": "code",
   "execution_count": 4,
   "metadata": {
    "Rmd_chunk_options": "echo=TRUE",
    "autoscroll": false
   },
   "outputs": [],
   "source": [
    "\n",
    "nll.slr<-function(par, dat, ...){\n",
    "  args<-list(...)\n",
    "\n",
    "  b0<-par[1]\n",
    "  b1<-par[2]\n",
    "  X<-dat$X\n",
    "  Y<-dat$Y\n",
    "  if(!is.na(args$sigma)){\n",
    "    sigma<-args$sigma\n",
    "  }else sigma<-par[3]\n",
    "\n",
    "  mu<-b0+b1*X\n",
    "\n",
    "  return(-sum(dnorm(Y, mean=mu, sd=sigma, log=TRUE)))\n",
    "}"
   ]
  },
  {
   "cell_type": "markdown",
   "metadata": {},
   "source": [
    "\n",
    "So that's our likelihood. Now I'll choose some data. For this example I'll use pEA.\n",
    "\n",
    "___1. Find the MLEs___\n",
    "\n",
    "I will use the code from the lecture almost verbatim. However, now I will replace the data with my pEA data:\n",
    "\n"
   ]
  },
  {
   "cell_type": "code",
   "execution_count": 5,
   "metadata": {
    "Rmd_chunk_options": "echo=TRUE",
    "autoscroll": false
   },
   "outputs": [
    {
     "data": {
      "text/html": [
       "<dl>\n",
       "\t<dt>$par</dt>\n",
       "\t\t<dd><ol class=list-inline>\n",
       "\t<li>0.401758669136801</li>\n",
       "\t<li>-0.00263010656139891</li>\n",
       "\t<li>0.401978057340599</li>\n",
       "</ol>\n",
       "</dd>\n",
       "\t<dt>$value</dt>\n",
       "\t\t<dd>27.9169935795167</dd>\n",
       "\t<dt>$counts</dt>\n",
       "\t\t<dd><dl class=dl-horizontal>\n",
       "\t<dt>function</dt>\n",
       "\t\t<dd>46</dd>\n",
       "\t<dt>gradient</dt>\n",
       "\t\t<dd>46</dd>\n",
       "</dl>\n",
       "</dd>\n",
       "\t<dt>$convergence</dt>\n",
       "\t\t<dd>0</dd>\n",
       "\t<dt>$message</dt>\n",
       "\t\t<dd>'CONVERGENCE: REL_REDUCTION_OF_F &lt;= FACTR*EPSMCH'</dd>\n",
       "</dl>\n"
      ],
      "text/latex": [
       "\\begin{description}\n",
       "\\item[\\$par] \\begin{enumerate*}\n",
       "\\item 0.401758669136801\n",
       "\\item -0.00263010656139891\n",
       "\\item 0.401978057340599\n",
       "\\end{enumerate*}\n",
       "\n",
       "\\item[\\$value] 27.9169935795167\n",
       "\\item[\\$counts] \\begin{description*}\n",
       "\\item[function] 46\n",
       "\\item[gradient] 46\n",
       "\\end{description*}\n",
       "\n",
       "\\item[\\$convergence] 0\n",
       "\\item[\\$message] 'CONVERGENCE: REL\\_REDUCTION\\_OF\\_F <= FACTR*EPSMCH'\n",
       "\\end{description}\n"
      ],
      "text/markdown": [
       "$par\n",
       ":   1. 0.401758669136801\n",
       "2. -0.00263010656139891\n",
       "3. 0.401978057340599\n",
       "\n",
       "\n",
       "\n",
       "$value\n",
       ":   27.9169935795167\n",
       "$counts\n",
       ":   function\n",
       ":   46gradient\n",
       ":   46\n",
       "\n",
       "\n",
       "$convergence\n",
       ":   0\n",
       "$message\n",
       ":   'CONVERGENCE: REL_REDUCTION_OF_F &lt;= FACTR*EPSMCH'\n",
       "\n",
       "\n"
      ],
      "text/plain": [
       "$par\n",
       "[1]  0.401758669 -0.002630107  0.401978057\n",
       "\n",
       "$value\n",
       "[1] 27.91699\n",
       "\n",
       "$counts\n",
       "function gradient \n",
       "      46       46 \n",
       "\n",
       "$convergence\n",
       "[1] 0\n",
       "\n",
       "$message\n",
       "[1] \"CONVERGENCE: REL_REDUCTION_OF_F <= FACTR*EPSMCH\"\n"
      ]
     },
     "metadata": {},
     "output_type": "display_data"
    }
   ],
   "source": [
    "d<-subset(dat, trait.name==\"pEA\")[,2:3]\n",
    "names(d)<-c(\"X\", \"Y\")\n",
    "\n",
    "fit <- optim(nll.slr, par=c(2, 1, 5), method=\"L-BFGS-B\", ## this is a n-D method\n",
    "              lower=c(-Inf, -Inf, 0.1), upper=Inf, dat=d, sigma=NA)\n",
    "\n",
    "fit"
   ]
  },
  {
   "cell_type": "markdown",
   "metadata": {},
   "source": [
    "\n",
    "<br>\n",
    "<br>\n",
    "\n",
    "___2. Plot the fitted line with data___\n",
    "\n"
   ]
  },
  {
   "cell_type": "code",
   "execution_count": 6,
   "metadata": {
    "autoscroll": false
   },
   "outputs": [
    {
     "data": {
      "image/png": "[encoded data removed]",
      "text/plain": [
       "plot without title"
      ]
     },
     "metadata": {},
     "output_type": "display_data"
    }
   ],
   "source": [
    "plot(d$X, d$Y, xlab=\"T\", ylab=\"pEA\")\n",
    "abline(fit$par[1], fit$par[2], col=2)\n"
   ]
  },
  {
   "cell_type": "markdown",
   "metadata": {},
   "source": [
    "\n",
    "<br>\n",
    "<br>\n",
    "\n",
    "___3. Build and plot the likelihood surface___\n",
    "\n"
   ]
  },
  {
   "cell_type": "code",
   "execution_count": 7,
   "metadata": {
    "Rmd_chunk_options": "echo=TRUE",
    "autoscroll": false
   },
   "outputs": [],
   "source": [
    "N0=100\n",
    "N1=101\n",
    "b0s<-seq(0,1, length=N0)\n",
    "b1s<-seq(-0.2,0.2, length=N1)\n",
    "\n",
    "mynll<-matrix(NA, nrow=N0, ncol=N1)\n",
    "for(i in 1:N0){\n",
    "  for(j in 1:N1) mynll[i,j]<-nll.slr(par=c(b0s[i],b1s[j]), dat=d, sigma=fit$par[3])\n",
    "}"
   ]
  },
  {
   "cell_type": "code",
   "execution_count": 8,
   "metadata": {
    "Rmd_chunk_options": "dev.args=list(bg='transparent'), fig.align=\"center\", no.main=TRUE, fig.height=5, fig.width=6.5, echo=TRUE",
    "autoscroll": false
   },
   "outputs": [
    {
     "data": {
      "image/png": "[encoded data removed]",
      "text/plain": [
       "plot without title"
      ]
     },
     "metadata": {},
     "output_type": "display_data"
    }
   ],
   "source": [
    "filled.contour(x = b0s,\n",
    "               y = b1s,\n",
    "               z= mynll,\n",
    "               col=heat.colors(21),\n",
    "               plot.axes = {axis(1); axis(2); points(fit$par[1],fit$par[2], pch=8, cex=1.5);\n",
    "                 xlab=\"b0\"; ylab=\"b1\"})\n"
   ]
  },
  {
   "cell_type": "markdown",
   "metadata": {},
   "source": [
    "\n",
    "<br>\n",
    "<br>\n",
    "\n",
    "___4. Confidence Intervals___\n",
    "\n"
   ]
  },
  {
   "cell_type": "code",
   "execution_count": 9,
   "metadata": {
    "Rmd_chunk_options": "echo=TRUE",
    "autoscroll": false
   },
   "outputs": [
    {
     "data": {
      "text/html": [
       "<table>\n",
       "<thead><tr><th scope=col>param</th><th scope=col>value</th><th scope=col>upper</th><th scope=col>lower</th></tr></thead>\n",
       "<tbody>\n",
       "\t<tr><td>b0          </td><td> 0.401758669</td><td>0.639331523 </td><td> 0.16418582 </td></tr>\n",
       "\t<tr><td>b1          </td><td>-0.002630107</td><td>0.005033679 </td><td>-0.01029389 </td></tr>\n",
       "\t<tr><td>sigma       </td><td> 0.401978057</td><td>0.477096983 </td><td> 0.32685913 </td></tr>\n",
       "</tbody>\n",
       "</table>\n"
      ],
      "text/latex": [
       "\\begin{tabular}{r|llll}\n",
       " param & value & upper & lower\\\\\n",
       "\\hline\n",
       "\t b0           &  0.401758669 & 0.639331523  &  0.16418582 \\\\\n",
       "\t b1           & -0.002630107 & 0.005033679  & -0.01029389 \\\\\n",
       "\t sigma        &  0.401978057 & 0.477096983  &  0.32685913 \\\\\n",
       "\\end{tabular}\n"
      ],
      "text/markdown": [
       "\n",
       "param | value | upper | lower | \n",
       "|---|---|---|\n",
       "| b0           |  0.401758669 | 0.639331523  |  0.16418582  | \n",
       "| b1           | -0.002630107 | 0.005033679  | -0.01029389  | \n",
       "| sigma        |  0.401978057 | 0.477096983  |  0.32685913  | \n",
       "\n",
       "\n"
      ],
      "text/plain": [
       "  param value        upper       lower      \n",
       "1 b0     0.401758669 0.639331523  0.16418582\n",
       "2 b1    -0.002630107 0.005033679 -0.01029389\n",
       "3 sigma  0.401978057 0.477096983  0.32685913"
      ]
     },
     "metadata": {},
     "output_type": "display_data"
    }
   ],
   "source": [
    "fit <- optim(nll.slr, par=c(2, 1, 5), method=\"L-BFGS-B\", hessian=TRUE, ## this is a n-D method\n",
    "              lower=c(-Inf, -Inf, 0.1), upper=Inf, dat=d, sigma=NA)\n",
    "\n",
    "fisher_info<-solve(fit$hessian)\n",
    "est_sigma<-sqrt(diag(fisher_info))\n",
    "upper<-fit$par+1.96*est_sigma\n",
    "lower<-fit$par-1.96*est_sigma\n",
    "interval<-data.frame(param=c(\"b0\", \"b1\", \"sigma\"), value=fit$par, upper=upper, lower=lower)\n",
    "interval"
   ]
  },
  {
   "cell_type": "markdown",
   "metadata": {},
   "source": [
    "\n",
    "<br>\n",
    "<br>\n",
    "\n",
    "### Task 2: Fitting a non-linear trait model\n",
    "\n",
    "1. Choose a non-linear model to fit to your trait (e.g., quadratic, Briere...). We provide implemented functions in the code file ${\\tt temp\\_functions.R}$.\n",
    "2. Using the _nll.slr_ function as an example, write your own function that calculates the negative log likelihood as a function of the parameters describing your trait and any additional parameters you need for an appropriate noise distribution (e.g., $\\sigma$ if you have normal noise).\n",
    "3. Use the _optim_ function to find the MLEs of all of your parameters.\n",
    "4. Obtain a confidence interval for your estimate.\n",
    "5. Plot the fitted function with the data and your fittend line from Task 1.\n",
    "\n",
    "<br>\n",
    "\n",
    "#### Solution\n",
    "\n",
    "Because I am fitting the pEA trait and the pattern looks relatively symmetric, I will use a quadratic function as implemented in the ${\\tt temp\\_functions.R}$ file (this is the piecewise continuous one that goes to zero at the edges). I'll also write one that doesn't use that function, because the hessian doesn't always work properly for the peice-wise functions. I'm also going to write a little wrapper function to return the interval.\n",
    "\n",
    "___2. Likelihood function___\n",
    "\n",
    "Here is my updated likelihood function:\n",
    "\n"
   ]
  },
  {
   "cell_type": "code",
   "execution_count": 11,
   "metadata": {
    "Rmd_chunk_options": "echo=TRUE",
    "autoscroll": false
   },
   "outputs": [],
   "source": [
    "source(\"../code/temp_functions.R\")\n",
    "\n",
    "nll.quad<-function(par, dat, ...){\n",
    "  args<-list(...)\n",
    "\n",
    "  T0<-par[1]\n",
    "  Tm<-par[2]\n",
    "  qd<-par[3]\n",
    "  X<-dat$X\n",
    "  Y<-dat$Y\n",
    "  if(!is.na(args$sigma)){\n",
    "    sigma<-args$sigma\n",
    "  }else sigma<-par[4]\n",
    "\n",
    "  mu<-quad(X,T0,Tm,qd)## qd*(X-T0)*(X-Tm)*(X<=Tm)*(X>=T0)\n",
    "\n",
    "  return(-sum(dnorm(Y, mean=mu, sd=sigma, log=TRUE)))\n",
    "}\n",
    "\n",
    "nll.quad2<-function(par, dat, ...){\n",
    "  args<-list(...)\n",
    "\n",
    "  T0<-par[1]\n",
    "  Tm<-par[2]\n",
    "  qd<-par[3]\n",
    "  X<-dat$X\n",
    "  Y<-dat$Y\n",
    "  if(!is.na(args$sigma)){\n",
    "    sigma<-args$sigma\n",
    "  }else sigma<-par[4]\n",
    "\n",
    "  mu<-qd*(X-T0)*(X-Tm)\n",
    "\n",
    "  return(-sum(dnorm(Y, mean=mu, sd=sigma, log=TRUE)))\n",
    "}\n",
    "\n",
    "CIs.from.fit<-function(fit, params=c(\"b0\", \"b1\", \"sigma\")){\n",
    "  fisher_info<-solve(fit$hessian)\n",
    "  est_sigma<-sqrt(diag(fisher_info))\n",
    "  upper<-fit$par+1.96*est_sigma\n",
    "  lower<-fit$par-1.96*est_sigma\n",
    "  interval<-data.frame(param=params, value=fit$par, upper=upper, lower=lower)\n",
    "  return(interval)\n",
    "}\n"
   ]
  },
  {
   "cell_type": "markdown",
   "metadata": {},
   "source": [
    "\n",
    "<br>\n",
    "<br>\n",
    "\n",
    "___3 & 4. MLEs and CIs___\n",
    "\n",
    "Here is the fitting. Make sure to always check that the algorithm at least thinks that its converged.\n",
    "\n"
   ]
  },
  {
   "cell_type": "code",
   "execution_count": 12,
   "metadata": {
    "autoscroll": false
   },
   "outputs": [
    {
     "data": {
      "text/html": [
       "<dl>\n",
       "\t<dt>$par</dt>\n",
       "\t\t<dd><ol class=list-inline>\n",
       "\t<li>14.059903145454</li>\n",
       "\t<li>38.1072174625934</li>\n",
       "\t<li>-0.00642729710817277</li>\n",
       "\t<li>0.0962707225979477</li>\n",
       "</ol>\n",
       "</dd>\n",
       "\t<dt>$value</dt>\n",
       "\t\t<dd>-50.6958079188724</dd>\n",
       "\t<dt>$counts</dt>\n",
       "\t\t<dd><dl class=dl-horizontal>\n",
       "\t<dt>function</dt>\n",
       "\t\t<dd>121</dd>\n",
       "\t<dt>gradient</dt>\n",
       "\t\t<dd>121</dd>\n",
       "</dl>\n",
       "</dd>\n",
       "\t<dt>$convergence</dt>\n",
       "\t\t<dd>0</dd>\n",
       "\t<dt>$message</dt>\n",
       "\t\t<dd>'CONVERGENCE: REL_REDUCTION_OF_F &lt;= FACTR*EPSMCH'</dd>\n",
       "\t<dt>$hessian</dt>\n",
       "\t\t<dd><table>\n",
       "<tbody>\n",
       "\t<tr><td> 2.047098e+01</td><td>-1.254229e+01</td><td> 2.325480e+04</td><td>-8.980816e-05</td></tr>\n",
       "\t<tr><td>-1.254229e+01</td><td> 2.661491e+01</td><td>-2.367136e+04</td><td>-7.090861e-04</td></tr>\n",
       "\t<tr><td> 2.325480e+04</td><td>-2.367136e+04</td><td> 3.760573e+07</td><td> 3.199393e-01</td></tr>\n",
       "\t<tr><td>-8.980816e-05</td><td>-7.090861e-04</td><td> 3.199393e-01</td><td> 1.187707e+04</td></tr>\n",
       "</tbody>\n",
       "</table>\n",
       "</dd>\n",
       "</dl>\n"
      ],
      "text/latex": [
       "\\begin{description}\n",
       "\\item[\\$par] \\begin{enumerate*}\n",
       "\\item 14.059903145454\n",
       "\\item 38.1072174625934\n",
       "\\item -0.00642729710817277\n",
       "\\item 0.0962707225979477\n",
       "\\end{enumerate*}\n",
       "\n",
       "\\item[\\$value] -50.6958079188724\n",
       "\\item[\\$counts] \\begin{description*}\n",
       "\\item[function] 121\n",
       "\\item[gradient] 121\n",
       "\\end{description*}\n",
       "\n",
       "\\item[\\$convergence] 0\n",
       "\\item[\\$message] 'CONVERGENCE: REL\\_REDUCTION\\_OF\\_F <= FACTR*EPSMCH'\n",
       "\\item[\\$hessian] \\begin{tabular}{llll}\n",
       "\t  2.047098e+01 & -1.254229e+01 &  2.325480e+04 & -8.980816e-05\\\\\n",
       "\t -1.254229e+01 &  2.661491e+01 & -2.367136e+04 & -7.090861e-04\\\\\n",
       "\t  2.325480e+04 & -2.367136e+04 &  3.760573e+07 &  3.199393e-01\\\\\n",
       "\t -8.980816e-05 & -7.090861e-04 &  3.199393e-01 &  1.187707e+04\\\\\n",
       "\\end{tabular}\n",
       "\n",
       "\\end{description}\n"
      ],
      "text/markdown": [
       "$par\n",
       ":   1. 14.059903145454\n",
       "2. 38.1072174625934\n",
       "3. -0.00642729710817277\n",
       "4. 0.0962707225979477\n",
       "\n",
       "\n",
       "\n",
       "$value\n",
       ":   -50.6958079188724\n",
       "$counts\n",
       ":   function\n",
       ":   121gradient\n",
       ":   121\n",
       "\n",
       "\n",
       "$convergence\n",
       ":   0\n",
       "$message\n",
       ":   'CONVERGENCE: REL_REDUCTION_OF_F &lt;= FACTR*EPSMCH'\n",
       "$hessian\n",
       ":   \n",
       "|  2.047098e+01 | -1.254229e+01 |  2.325480e+04 | -8.980816e-05 | \n",
       "| -1.254229e+01 |  2.661491e+01 | -2.367136e+04 | -7.090861e-04 | \n",
       "|  2.325480e+04 | -2.367136e+04 |  3.760573e+07 |  3.199393e-01 | \n",
       "| -8.980816e-05 | -7.090861e-04 |  3.199393e-01 |  1.187707e+04 | \n",
       "\n",
       "\n",
       "\n",
       "\n",
       "\n"
      ],
      "text/plain": [
       "$par\n",
       "[1] 14.059903145 38.107217463 -0.006427297  0.096270723\n",
       "\n",
       "$value\n",
       "[1] -50.69581\n",
       "\n",
       "$counts\n",
       "function gradient \n",
       "     121      121 \n",
       "\n",
       "$convergence\n",
       "[1] 0\n",
       "\n",
       "$message\n",
       "[1] \"CONVERGENCE: REL_REDUCTION_OF_F <= FACTR*EPSMCH\"\n",
       "\n",
       "$hessian\n",
       "              [,1]          [,2]          [,3]          [,4]\n",
       "[1,]  2.047098e+01 -1.254229e+01  2.325480e+04 -8.980816e-05\n",
       "[2,] -1.254229e+01  2.661491e+01 -2.367136e+04 -7.090861e-04\n",
       "[3,]  2.325480e+04 -2.367136e+04  3.760573e+07  3.199393e-01\n",
       "[4,] -8.980816e-05 -7.090861e-04  3.199393e-01  1.187707e+04\n"
      ]
     },
     "metadata": {},
     "output_type": "display_data"
    }
   ],
   "source": [
    "fit2 <- optim(nll.quad, par=c(5, 32, -0.01, 0.01), method=\"L-BFGS-B\", hessian=TRUE,\n",
    "              lower=c(0, -Inf, -Inf, 0.0001), upper=Inf, dat=d, sigma=NA)\n",
    "              #control=list(fnscale=0.1, parscale=c(1,1,100,1)))\n",
    "fit2"
   ]
  },
  {
   "cell_type": "code",
   "execution_count": 13,
   "metadata": {
    "autoscroll": false
   },
   "outputs": [
    {
     "data": {
      "text/html": [
       "<table>\n",
       "<thead><tr><th scope=col>param</th><th scope=col>value</th><th scope=col>upper</th><th scope=col>lower</th></tr></thead>\n",
       "<tbody>\n",
       "\t<tr><td>T0          </td><td>14.059903145</td><td>14.87973083 </td><td>13.240075462</td></tr>\n",
       "\t<tr><td>Tm          </td><td>38.107217463</td><td>38.69835209 </td><td>37.516082831</td></tr>\n",
       "\t<tr><td>qd          </td><td>-0.006427297</td><td>-0.00565838 </td><td>-0.007196214</td></tr>\n",
       "\t<tr><td>sigma       </td><td> 0.096270723</td><td> 0.11425535 </td><td> 0.078286100</td></tr>\n",
       "</tbody>\n",
       "</table>\n"
      ],
      "text/latex": [
       "\\begin{tabular}{r|llll}\n",
       " param & value & upper & lower\\\\\n",
       "\\hline\n",
       "\t T0           & 14.059903145 & 14.87973083  & 13.240075462\\\\\n",
       "\t Tm           & 38.107217463 & 38.69835209  & 37.516082831\\\\\n",
       "\t qd           & -0.006427297 & -0.00565838  & -0.007196214\\\\\n",
       "\t sigma        &  0.096270723 &  0.11425535  &  0.078286100\\\\\n",
       "\\end{tabular}\n"
      ],
      "text/markdown": [
       "\n",
       "param | value | upper | lower | \n",
       "|---|---|---|---|\n",
       "| T0           | 14.059903145 | 14.87973083  | 13.240075462 | \n",
       "| Tm           | 38.107217463 | 38.69835209  | 37.516082831 | \n",
       "| qd           | -0.006427297 | -0.00565838  | -0.007196214 | \n",
       "| sigma        |  0.096270723 |  0.11425535  |  0.078286100 | \n",
       "\n",
       "\n"
      ],
      "text/plain": [
       "  param value        upper       lower       \n",
       "1 T0    14.059903145 14.87973083 13.240075462\n",
       "2 Tm    38.107217463 38.69835209 37.516082831\n",
       "3 qd    -0.006427297 -0.00565838 -0.007196214\n",
       "4 sigma  0.096270723  0.11425535  0.078286100"
      ]
     },
     "metadata": {},
     "output_type": "display_data"
    }
   ],
   "source": [
    "CIs.from.fit(fit2, params=c(\"T0\", \"Tm\", \"qd\", \"sigma\"))"
   ]
  },
  {
   "cell_type": "markdown",
   "metadata": {},
   "source": [
    "\n",
    "\n",
    "For comparison, I can fit the standard quadratic -- however, in that case, I don't want to use all of the extra zero data because they'll tend to pull the curve value out.\n",
    "\n"
   ]
  },
  {
   "cell_type": "code",
   "execution_count": 14,
   "metadata": {
    "autoscroll": false
   },
   "outputs": [],
   "source": [
    "o<-order(d$X)\n",
    "do<-d[o,]\n",
    "wl<-min(which(do$X==12))\n",
    "wu<-max(which(do$X==38))\n",
    "do<-do[wl:wu,]\n"
   ]
  },
  {
   "cell_type": "code",
   "execution_count": 15,
   "metadata": {
    "autoscroll": false
   },
   "outputs": [
    {
     "data": {
      "text/html": [
       "<dl>\n",
       "\t<dt>$par</dt>\n",
       "\t\t<dd><ol class=list-inline>\n",
       "\t<li>12.9169531386277</li>\n",
       "\t<li>38.3596083479483</li>\n",
       "\t<li>-0.00561673467473248</li>\n",
       "\t<li>0.13930108523892</li>\n",
       "</ol>\n",
       "</dd>\n",
       "\t<dt>$value</dt>\n",
       "\t\t<dd>-17.1193837755502</dd>\n",
       "\t<dt>$counts</dt>\n",
       "\t\t<dd><dl class=dl-horizontal>\n",
       "\t<dt>function</dt>\n",
       "\t\t<dd>96</dd>\n",
       "\t<dt>gradient</dt>\n",
       "\t\t<dd>96</dd>\n",
       "</dl>\n",
       "</dd>\n",
       "\t<dt>$convergence</dt>\n",
       "\t\t<dd>0</dd>\n",
       "\t<dt>$message</dt>\n",
       "\t\t<dd>'CONVERGENCE: REL_REDUCTION_OF_F &lt;= FACTR*EPSMCH'</dd>\n",
       "\t<dt>$hessian</dt>\n",
       "\t\t<dd><table>\n",
       "<tbody>\n",
       "\t<tr><td>   11.0271836</td><td>-5.234934e+00</td><td> 1.134206e+04</td><td>-2.030600e-03</td></tr>\n",
       "\t<tr><td>   -5.2349335</td><td> 1.112756e+01</td><td>-1.237111e+04</td><td>-9.303815e-04</td></tr>\n",
       "\t<tr><td>11342.0627840</td><td>-1.237111e+04</td><td> 2.336915e+07</td><td>-1.807936e+00</td></tr>\n",
       "\t<tr><td>   -0.0020306</td><td>-9.303815e-04</td><td>-1.807936e+00</td><td> 3.196003e+03</td></tr>\n",
       "</tbody>\n",
       "</table>\n",
       "</dd>\n",
       "</dl>\n"
      ],
      "text/latex": [
       "\\begin{description}\n",
       "\\item[\\$par] \\begin{enumerate*}\n",
       "\\item 12.9169531386277\n",
       "\\item 38.3596083479483\n",
       "\\item -0.00561673467473248\n",
       "\\item 0.13930108523892\n",
       "\\end{enumerate*}\n",
       "\n",
       "\\item[\\$value] -17.1193837755502\n",
       "\\item[\\$counts] \\begin{description*}\n",
       "\\item[function] 96\n",
       "\\item[gradient] 96\n",
       "\\end{description*}\n",
       "\n",
       "\\item[\\$convergence] 0\n",
       "\\item[\\$message] 'CONVERGENCE: REL\\_REDUCTION\\_OF\\_F <= FACTR*EPSMCH'\n",
       "\\item[\\$hessian] \\begin{tabular}{llll}\n",
       "\t    11.0271836 & -5.234934e+00 &  1.134206e+04 & -2.030600e-03\\\\\n",
       "\t    -5.2349335 &  1.112756e+01 & -1.237111e+04 & -9.303815e-04\\\\\n",
       "\t 11342.0627840 & -1.237111e+04 &  2.336915e+07 & -1.807936e+00\\\\\n",
       "\t    -0.0020306 & -9.303815e-04 & -1.807936e+00 &  3.196003e+03\\\\\n",
       "\\end{tabular}\n",
       "\n",
       "\\end{description}\n"
      ],
      "text/markdown": [
       "$par\n",
       ":   1. 12.9169531386277\n",
       "2. 38.3596083479483\n",
       "3. -0.00561673467473248\n",
       "4. 0.13930108523892\n",
       "\n",
       "\n",
       "\n",
       "$value\n",
       ":   -17.1193837755502\n",
       "$counts\n",
       ":   function\n",
       ":   96gradient\n",
       ":   96\n",
       "\n",
       "\n",
       "$convergence\n",
       ":   0\n",
       "$message\n",
       ":   'CONVERGENCE: REL_REDUCTION_OF_F &lt;= FACTR*EPSMCH'\n",
       "$hessian\n",
       ":   \n",
       "|    11.0271836 | -5.234934e+00 |  1.134206e+04 | -2.030600e-03 | \n",
       "|    -5.2349335 |  1.112756e+01 | -1.237111e+04 | -9.303815e-04 | \n",
       "| 11342.0627840 | -1.237111e+04 |  2.336915e+07 | -1.807936e+00 | \n",
       "|    -0.0020306 | -9.303815e-04 | -1.807936e+00 |  3.196003e+03 | \n",
       "\n",
       "\n",
       "\n",
       "\n",
       "\n"
      ],
      "text/plain": [
       "$par\n",
       "[1] 12.916953139 38.359608348 -0.005616735  0.139301085\n",
       "\n",
       "$value\n",
       "[1] -17.11938\n",
       "\n",
       "$counts\n",
       "function gradient \n",
       "      96       96 \n",
       "\n",
       "$convergence\n",
       "[1] 0\n",
       "\n",
       "$message\n",
       "[1] \"CONVERGENCE: REL_REDUCTION_OF_F <= FACTR*EPSMCH\"\n",
       "\n",
       "$hessian\n",
       "              [,1]          [,2]          [,3]          [,4]\n",
       "[1,]    11.0271836 -5.234934e+00  1.134206e+04 -2.030600e-03\n",
       "[2,]    -5.2349335  1.112756e+01 -1.237111e+04 -9.303815e-04\n",
       "[3,] 11342.0627840 -1.237111e+04  2.336915e+07 -1.807936e+00\n",
       "[4,]    -0.0020306 -9.303815e-04 -1.807936e+00  3.196003e+03\n"
      ]
     },
     "metadata": {},
     "output_type": "display_data"
    }
   ],
   "source": [
    "fit2b <- optim(nll.quad2, par=c(5, 40, -0.01, 0.01), method=\"L-BFGS-B\", hessian=TRUE,\n",
    "              lower=c(0, -Inf, -Inf, 0.0001), upper=c(Inf,Inf,Inf,0.2), dat=do, sigma=NA)\n",
    "fit2b"
   ]
  },
  {
   "cell_type": "code",
   "execution_count": 16,
   "metadata": {
    "autoscroll": false
   },
   "outputs": [
    {
     "data": {
      "text/html": [
       "<table>\n",
       "<thead><tr><th scope=col>param</th><th scope=col>value</th><th scope=col>upper</th><th scope=col>lower</th></tr></thead>\n",
       "<tbody>\n",
       "\t<tr><td>T0          </td><td>12.916953139</td><td>13.760940119</td><td>12.072966158</td></tr>\n",
       "\t<tr><td>Tm          </td><td>38.359608348</td><td>39.286511992</td><td>37.432704704</td></tr>\n",
       "\t<tr><td>qd          </td><td>-0.005616735</td><td>-0.004820211</td><td>-0.006413258</td></tr>\n",
       "\t<tr><td>sigma       </td><td> 0.139301085</td><td> 0.173970979</td><td> 0.104631191</td></tr>\n",
       "</tbody>\n",
       "</table>\n"
      ],
      "text/latex": [
       "\\begin{tabular}{r|llll}\n",
       " param & value & upper & lower\\\\\n",
       "\\hline\n",
       "\t T0           & 12.916953139 & 13.760940119 & 12.072966158\\\\\n",
       "\t Tm           & 38.359608348 & 39.286511992 & 37.432704704\\\\\n",
       "\t qd           & -0.005616735 & -0.004820211 & -0.006413258\\\\\n",
       "\t sigma        &  0.139301085 &  0.173970979 &  0.104631191\\\\\n",
       "\\end{tabular}\n"
      ],
      "text/markdown": [
       "\n",
       "param | value | upper | lower | \n",
       "|---|---|---|---|\n",
       "| T0           | 12.916953139 | 13.760940119 | 12.072966158 | \n",
       "| Tm           | 38.359608348 | 39.286511992 | 37.432704704 | \n",
       "| qd           | -0.005616735 | -0.004820211 | -0.006413258 | \n",
       "| sigma        |  0.139301085 |  0.173970979 |  0.104631191 | \n",
       "\n",
       "\n"
      ],
      "text/plain": [
       "  param value        upper        lower       \n",
       "1 T0    12.916953139 13.760940119 12.072966158\n",
       "2 Tm    38.359608348 39.286511992 37.432704704\n",
       "3 qd    -0.005616735 -0.004820211 -0.006413258\n",
       "4 sigma  0.139301085  0.173970979  0.104631191"
      ]
     },
     "metadata": {},
     "output_type": "display_data"
    }
   ],
   "source": [
    "CIs.from.fit(fit2b, params=c(\"T0\", \"Tm\", \"qd\", \"sigma\"))"
   ]
  },
  {
   "cell_type": "markdown",
   "metadata": {},
   "source": [
    "\n",
    "<br>\n",
    "<br>\n",
    "\n",
    "___5. Plots___\n",
    "\n"
   ]
  },
  {
   "cell_type": "code",
   "execution_count": 17,
   "metadata": {
    "autoscroll": false
   },
   "outputs": [
    {
     "data": {
      "image/png": "[encoded data removed]",
      "text/plain": [
       "plot without title"
      ]
     },
     "metadata": {},
     "output_type": "display_data"
    }
   ],
   "source": [
    "plot(d$X, d$Y, xlab=\"T\", ylab=\"pEA\")\n",
    "abline(fit$par[1], fit$par[2], col=2, lwd=2)\n",
    "\n",
    "ts<-seq(0, 55, length=500)\n",
    "lines(ts, quad(ts, fit2$par[1], fit2$par[2], fit2$par[3]), col=3, lwd=2)\n",
    "lines(ts, (ts-fit2b$par[1])*(ts-fit2b$par[2])*fit2b$par[3], col=4, lwd=2, lty=2)"
   ]
  },
  {
   "cell_type": "markdown",
   "metadata": {},
   "source": [
    "\n",
    "<br>\n",
    "<br>\n",
    "\n",
    "### Task 2b: Fitting a second non-linear function (optional)\n",
    "\n",
    "Choose a second non-linear function to fit to your trait data. Find the MLEs and fit this curve to your data. Plot the fit together with your previous fits and the data\n",
    "\n",
    "\n",
    "\n",
    "<br>\n",
    "<br>\n",
    "\n",
    "### Task 3: Compare models\n",
    "\n",
    "Now compare your 2-3 models via AIC or BIC (optional: calculate the relative model probabilities). Which comes out on top? Is this what you expected?\n",
    "\n",
    "The __value__ that's returned by optim is the negative log likelihood. Recall the AIC is simply:\n",
    "$$\n",
    "\\mathrm{AIC} = -2\\mathcal{l} +2\\times k\n",
    "$$\n",
    "where $\\mathcal{l}$ is the log-likelihood and k is the number of parameters. Similarly BIC is\n",
    "$$\n",
    "\\mathrm{BIC} = -2\\mathcal{l} + \\log(n)\\times k\n",
    "$$\n",
    "where $n$ is the number of data points. Make sure that you only compare models fit with the same data!\n",
    "\n"
   ]
  },
  {
   "cell_type": "code",
   "execution_count": 18,
   "metadata": {
    "autoscroll": false
   },
   "outputs": [
    {
     "data": {
      "text/html": [
       "<dl class=dl-horizontal>\n",
       "\t<dt>fit</dt>\n",
       "\t\t<dd>67.8559867147308</dd>\n",
       "\t<dt>fit2</dt>\n",
       "\t\t<dd>-85.3622830968149</dd>\n",
       "</dl>\n"
      ],
      "text/latex": [
       "\\begin{description*}\n",
       "\\item[fit] 67.8559867147308\n",
       "\\item[fit2] -85.3622830968149\n",
       "\\end{description*}\n"
      ],
      "text/markdown": [
       "fit\n",
       ":   67.8559867147308fit2\n",
       ":   -85.3622830968149\n",
       "\n"
      ],
      "text/plain": [
       "      fit      fit2 \n",
       " 67.85599 -85.36228 "
      ]
     },
     "metadata": {},
     "output_type": "display_data"
    },
    {
     "data": {
      "text/html": [
       "<dl class=dl-horizontal>\n",
       "\t<dt>fit</dt>\n",
       "\t\t<dd>0</dd>\n",
       "\t<dt>fit2</dt>\n",
       "\t\t<dd>1</dd>\n",
       "</dl>\n"
      ],
      "text/latex": [
       "\\begin{description*}\n",
       "\\item[fit] 0\n",
       "\\item[fit2] 1\n",
       "\\end{description*}\n"
      ],
      "text/markdown": [
       "fit\n",
       ":   0fit2\n",
       ":   1\n",
       "\n"
      ],
      "text/plain": [
       " fit fit2 \n",
       "   0    1 "
      ]
     },
     "metadata": {},
     "output_type": "display_data"
    }
   ],
   "source": [
    "n<-length(d$Y)\n",
    "myBIC<-function(fit, n){\n",
    "  k<-length(fit$par)\n",
    "  return(2*fit$value+log(n)*k)\n",
    "}\n",
    "\n",
    "\n",
    "bics<-c(fit=myBIC(fit,n), fit2=myBIC(fit2,n))\n",
    "\n",
    "bics\n",
    "\n",
    "ebics<-exp(-0.5*(bics-min(bics)))\n",
    "\n",
    "probs<-ebics/sum(ebics)\n",
    "\n",
    "round(probs, 5)\n"
   ]
  },
  {
   "cell_type": "markdown",
   "metadata": {},
   "source": [
    "\n",
    "There's no comparison -- the quadratic is much better here. This jives with what we see in the plots.\n",
    "\n",
    "<br>\n",
    "<br>\n",
    "\n",
    "\n",
    "### Extra challenge\n",
    "\n",
    "If you have the time and the interest you may try to fit curves to all of the 4 traits!\n",
    "\n",
    "<br>\n",
    "<br>\n",
    "<br>\n"
   ]
  }
 ],
 "metadata": {
  "Rmd_header": {
   "author": "VectorBiTE Training Workshop",
   "date": "June 2018",
   "graphics": true,
   "output": {
    "html_document": "default",
    "pdf_document": {
     "keep_tex": true,
     "latex_engine": "xelatex"
    }
   },
   "title": "<br>Traits + MLE Challenge Problem (example solution)"
  },
  "kernelspec": {
   "display_name": "R",
   "language": "R",
   "name": "ir"
  },
  "language_info": {
   "codemirror_mode": "r",
   "file_extension": ".r",
   "mimetype": "text/x-r-source",
   "name": "R",
   "pygments_lexer": "r",
   "version": "3.4.4"
  },
  "toc": {
   "colors": {
    "hover_highlight": "#DAA520",
    "navigate_num": "#000000",
    "navigate_text": "#333333",
    "running_highlight": "#FF0000",
    "selected_highlight": "#FFD700",
    "sidebar_border": "#EEEEEE",
    "wrapper_background": "#FFFFFF"
   },
   "moveMenuLeft": true,
   "nav_menu": {
    "height": "167px",
    "width": "252px"
   },
   "navigate_menu": true,
   "number_sections": false,
   "sideBar": false,
   "threshold": 4,
   "toc_cell": true,
   "toc_section_display": "block",
   "toc_window_display": true,
   "widenNotebook": false
  }
 },
 "nbformat": 4,
 "nbformat_minor": 1
}
